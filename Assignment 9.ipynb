{
 "cells": [
  {
   "cell_type": "markdown",
   "id": "663c0294-870e-42b9-8c5c-045aded23a2f",
   "metadata": {},
   "source": [
    "### Assignment # 9"
   ]
  },
  {
   "cell_type": "code",
   "execution_count": null,
   "id": "90cc04b7-f3c5-4868-a2b5-f40000127434",
   "metadata": {},
   "outputs": [],
   "source": []
  }
 ],
 "metadata": {
  "kernelspec": {
   "display_name": "Python 3 (ipykernel)",
   "language": "python",
   "name": "python3"
  },
  "language_info": {
   "codemirror_mode": {
    "name": "ipython",
    "version": 3
   },
   "file_extension": ".py",
   "mimetype": "text/x-python",
   "name": "python",
   "nbconvert_exporter": "python",
   "pygments_lexer": "ipython3",
   "version": "3.12.4"
  }
 },
 "nbformat": 4,
 "nbformat_minor": 5
}
